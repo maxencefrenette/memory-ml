{
 "cells": [
  {
   "cell_type": "code",
   "execution_count": null,
   "metadata": {},
   "outputs": [],
   "source": [
    "import lightning as L\n",
    "from lightning.pytorch.loggers import WandbLogger\n",
    "from src.small_dataset import ReviewsDataModule\n",
    "from src.models import NNMemoryModel"
   ]
  },
  {
   "cell_type": "code",
   "execution_count": null,
   "metadata": {},
   "outputs": [],
   "source": [
    "# Training Budget\n",
    "timer = L.pytorch.callbacks.timer.Timer(duration=\"00:00:00:30\")\n",
    "\n",
    "# Hyperparameters\n",
    "batch_size = 128\n",
    "reviews_history_size = 8\n",
    "learning_rate = 1e-3\n",
    "hidden_size = 16\n",
    "\n",
    "model = NNMemoryModel(\n",
    "    learning_rate=learning_rate,\n",
    "    reviews_history_size=reviews_history_size,\n",
    "    hidden_size=hidden_size,\n",
    ")\n",
    "data = ReviewsDataModule(batch_size, reviews_history_size)\n",
    "wandb_logger = WandbLogger(project=\"Memory ML\")\n",
    "\n",
    "trainer = L.Trainer(val_check_interval=0.2, logger=wandb_logger, callbacks=[timer])\n",
    "trainer.fit(model, data)\n",
    "trainer.test(model, data)"
   ]
  }
 ],
 "metadata": {
  "kernelspec": {
   "display_name": "memory-ml-QfZ3EAxj-py3.12",
   "language": "python",
   "name": "python3"
  },
  "language_info": {
   "codemirror_mode": {
    "name": "ipython",
    "version": 3
   },
   "file_extension": ".py",
   "mimetype": "text/x-python",
   "name": "python",
   "nbconvert_exporter": "python",
   "pygments_lexer": "ipython3",
   "version": "3.11.7"
  }
 },
 "nbformat": 4,
 "nbformat_minor": 2
}
