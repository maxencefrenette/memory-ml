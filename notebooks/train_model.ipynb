{
 "cells": [
  {
   "cell_type": "code",
   "execution_count": null,
   "metadata": {},
   "outputs": [],
   "source": [
    "import pandas as pd\n",
    "import glob\n",
    "import torch"
   ]
  },
  {
   "cell_type": "code",
   "execution_count": null,
   "metadata": {},
   "outputs": [],
   "source": [
    "# Get a list of file paths for all CSV files in the data/ folder\n",
    "csv_files = glob.glob('../data/*.csv')\n",
    "\n",
    "# Create an empty list to store the DataFrames\n",
    "dfs = []\n",
    "\n",
    "# Read each CSV file into a DataFrame and append it to the list\n",
    "for file in csv_files:\n",
    "    df = pd.read_csv(file)\n",
    "    df[\"user\"] = file.split(\"/\")[-1].split(\".\")[0] # Extract the user name from the file path\n",
    "    dfs.append(df)\n",
    "\n",
    "# Concatenate all the DataFrames in the list\n",
    "df = pd.concat(dfs)\n",
    "df = df [[\n",
    "    \"user\",\n",
    "    \"card_id\",\n",
    "    \"review_th\",\n",
    "    \"rating\",\n",
    "    \"delta_t\",\n",
    "]]\n",
    "\n",
    "print(f\"Data points: {len(df)}\")\n",
    "df.head()"
   ]
  },
  {
   "cell_type": "code",
   "execution_count": null,
   "metadata": {},
   "outputs": [],
   "source": [
    "display(df.describe())\n",
    "df.hist(bins=100, figsize=(20, 15))"
   ]
  },
  {
   "cell_type": "code",
   "execution_count": null,
   "metadata": {},
   "outputs": [],
   "source": [
    "num_reviews = 4\n",
    "\n",
    "# Convert the rating to a binary value\n",
    "df[\"rating\"] = df[\"rating\"].apply(lambda x: 1 if x >= 2 else 0)\n",
    "\n",
    "# Add columns for the past reviews\n",
    "for i in range(num_reviews):\n",
    "    df[f\"past_rating_{i}\"] = (\n",
    "        df[\"rating\"]\n",
    "        .shift(i)\n",
    "        .where(\n",
    "            (df[\"user\"].shift(i) == df[\"user\"])\n",
    "            & (df[\"card_id\"].shift(i) == df[\"card_id\"])\n",
    "        )\n",
    "    )\n",
    "    df[f\"past_delta_t_{i}\"] = (\n",
    "        df[\"delta_t\"]\n",
    "        .shift(i)\n",
    "        .where(\n",
    "            (df[\"user\"].shift(i) == df[\"user\"])\n",
    "            & (df[\"card_id\"].shift(i) == df[\"card_id\"])\n",
    "        )\n",
    "    )\n",
    "\n",
    "display(df.head(25).style.format())"
   ]
  },
  {
   "cell_type": "code",
   "execution_count": null,
   "metadata": {},
   "outputs": [],
   "source": [
    "import torch\n",
    "from torch import nn\n",
    "\n",
    "# Hyperparameters\n",
    "batch_size = 32\n",
    "\n",
    "device = (\n",
    "    \"cuda\"\n",
    "    if torch.cuda.is_available()\n",
    "    else \"mps\"\n",
    "    if torch.backends.mps.is_available()\n",
    "    else \"cpu\"\n",
    ")\n",
    "print(f\"Using {device} device\")\n",
    "\n",
    "\n",
    "class NeuralNetwork(nn.Module):\n",
    "    def __init__(self):\n",
    "        super().__init__()\n",
    "        self.model = nn.Sequential(\n",
    "            nn.Linear(2 * num_reviews - 1, 32),\n",
    "            nn.ReLU(),\n",
    "            nn.Linear(32, 1),\n",
    "            nn.Sigmoid(),\n",
    "        )\n",
    "\n",
    "    def forward(self, x):\n",
    "        return self.model(x)\n",
    "\n",
    "\n",
    "model = NeuralNetwork().to(device)\n",
    "print(model)"
   ]
  },
  {
   "cell_type": "code",
   "execution_count": null,
   "metadata": {},
   "outputs": [],
   "source": [
    "loss_fn = nn.CrossEntropyLoss()\n",
    "optimizer = torch.optim.SGD(model.parameters(), lr=1e-3)"
   ]
  }
 ],
 "metadata": {
  "kernelspec": {
   "display_name": "memory-ml-QfZ3EAxj-py3.12",
   "language": "python",
   "name": "python3"
  },
  "language_info": {
   "codemirror_mode": {
    "name": "ipython",
    "version": 3
   },
   "file_extension": ".py",
   "mimetype": "text/x-python",
   "name": "python",
   "nbconvert_exporter": "python",
   "pygments_lexer": "ipython3",
   "version": "3.11.7"
  }
 },
 "nbformat": 4,
 "nbformat_minor": 2
}
