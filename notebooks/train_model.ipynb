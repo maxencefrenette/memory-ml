{
 "cells": [
  {
   "cell_type": "code",
   "execution_count": null,
   "metadata": {},
   "outputs": [],
   "source": [
    "import pandas as pd\n",
    "import glob"
   ]
  },
  {
   "cell_type": "code",
   "execution_count": null,
   "metadata": {},
   "outputs": [],
   "source": [
    "# Get a list of file paths for all CSV files in the data/ folder\n",
    "csv_files = glob.glob('../data/*.csv')\n",
    "\n",
    "# Create an empty list to store the DataFrames\n",
    "dfs = []\n",
    "\n",
    "# Read each CSV file into a DataFrame and append it to the list\n",
    "for file in csv_files:\n",
    "    df = pd.read_csv(file)\n",
    "    df[\"user\"] = file.split(\"/\")[-1].split(\".\")[0] # Extract the user name from the file path\n",
    "    dfs.append(df)\n",
    "\n",
    "# Concatenate all the DataFrames in the list\n",
    "df = pd.concat(dfs)\n",
    "\n",
    "print(f\"Data points: {len(df)}\")\n",
    "df.head()"
   ]
  },
  {
   "cell_type": "code",
   "execution_count": null,
   "metadata": {},
   "outputs": [],
   "source": [
    "display(df.describe())\n",
    "df.hist(bins=100, figsize=(20, 15))"
   ]
  },
  {
   "cell_type": "code",
   "execution_count": null,
   "metadata": {},
   "outputs": [],
   "source": [
    "num_past_reviews = 4\n",
    "\n",
    "df[\"delta_t_0\"] = df[\"delta_t\"]\n",
    "df[\"rating_0\"] = df[\"rating\"]\n",
    "df = df[\n",
    "    [\n",
    "        \"user\",\n",
    "        \"card_id\",\n",
    "        \"rating_0\",\n",
    "        \"delta_t_0\",\n",
    "    ]\n",
    "]\n",
    "\n",
    "# Add columns for the past reviews\n",
    "for i in range(1, num_past_reviews):\n",
    "    df[f\"delta_t_{i}\"] = (\n",
    "        df[\"delta_t_0\"]\n",
    "            .shift(i)\n",
    "            .where(\n",
    "                (df[\"user\"].shift(i) == df[\"user\"]) & (df[\"card_id\"].shift(i) == df[\"card_id\"])\n",
    "            )\n",
    "    )\n",
    "    df[f\"rating_{i}\"] = (\n",
    "        df[\"rating_0\"]\n",
    "            .shift(i)\n",
    "            .where(\n",
    "                (df[\"user\"].shift(i) == df[\"user\"]) & (df[\"card_id\"].shift(i) == df[\"card_id\"])\n",
    "            )\n",
    "    )\n",
    "\n",
    "display(df.head(100).style.format())"
   ]
  }
 ],
 "metadata": {
  "kernelspec": {
   "display_name": "memory-ml-QfZ3EAxj-py3.12",
   "language": "python",
   "name": "python3"
  },
  "language_info": {
   "codemirror_mode": {
    "name": "ipython",
    "version": 3
   },
   "file_extension": ".py",
   "mimetype": "text/x-python",
   "name": "python",
   "nbconvert_exporter": "python",
   "pygments_lexer": "ipython3",
   "version": "3.12.1"
  }
 },
 "nbformat": 4,
 "nbformat_minor": 2
}
