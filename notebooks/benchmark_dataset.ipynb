{
 "cells": [
  {
   "cell_type": "code",
   "execution_count": null,
   "metadata": {},
   "outputs": [],
   "source": [
    "from src.small_dataset import ReviewsDataset, load_as_df, test_batch_size\n",
    "import time\n",
    "import random\n",
    "start = time.perf_counter()\n",
    "df = load_as_df()\n",
    "print(f\"Time to load dataframe: {time.perf_counter() - start:.2f}s\")\n",
    "\n",
    "start = time.perf_counter()\n",
    "dataset = ReviewsDataset(reviews_history_size=8, df=df)\n",
    "print(f\"Time to load dataset: {time.perf_counter() - start:.2f}s\")\n",
    "\n",
    "n = len(dataset)\n",
    "k = test_batch_size\n",
    "\n",
    "start = time.perf_counter()\n",
    "for _ in range(k):\n",
    "    dataset[random.randint(0, n-1)]\n",
    "\n",
    "print(f\"Time to access {k:,} elements: {time.perf_counter() - start:.2f}s\")\n"
   ]
  }
 ],
 "metadata": {
  "kernelspec": {
   "display_name": "memory-ml-QfZ3EAxj-py3.11",
   "language": "python",
   "name": "python3"
  },
  "language_info": {
   "codemirror_mode": {
    "name": "ipython",
    "version": 3
   },
   "file_extension": ".py",
   "mimetype": "text/x-python",
   "name": "python",
   "nbconvert_exporter": "python",
   "pygments_lexer": "ipython3",
   "version": "3.11.7"
  }
 },
 "nbformat": 4,
 "nbformat_minor": 2
}
