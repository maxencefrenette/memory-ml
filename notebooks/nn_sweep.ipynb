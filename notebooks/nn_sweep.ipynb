{
 "cells": [
  {
   "cell_type": "code",
   "execution_count": null,
   "metadata": {},
   "outputs": [],
   "source": [
    "import lightning as L\n",
    "from lightning.pytorch.loggers import WandbLogger\n",
    "from src.small_dataset import ReviewsDataModule\n",
    "from src.models import NNMemoryModel\n",
    "import wandb"
   ]
  },
  {
   "cell_type": "code",
   "execution_count": null,
   "metadata": {},
   "outputs": [],
   "source": [
    "def main():\n",
    "    # Training Budget\n",
    "    timer = L.pytorch.callbacks.timer.Timer(duration=\"00:00:00:30\")\n",
    "\n",
    "    wandb_logger = WandbLogger(project=\"Memory ML\")\n",
    "\n",
    "    config = wandb_logger.experiment.config\n",
    "    data = ReviewsDataModule(config.batch_size, config.reviews_history_size)\n",
    "    model = NNMemoryModel(\n",
    "        learning_rate=config.learning_rate,\n",
    "        reviews_history_size=config.reviews_history_size,\n",
    "    )\n",
    "\n",
    "    trainer = L.Trainer(val_check_interval=0.2, logger=wandb_logger, callbacks=[timer])\n",
    "    trainer.fit(model, data)\n",
    "    trainer.test(model, data)\n",
    "\n",
    "sweep_id = input(\"Enter the sweep id (project-name/sweep-id):\")\n",
    "wandb.agent(sweep_id, function=main)"
   ]
  }
 ],
 "metadata": {
  "kernelspec": {
   "display_name": "memory-ml-QfZ3EAxj-py3.11",
   "language": "python",
   "name": "python3"
  },
  "language_info": {
   "codemirror_mode": {
    "name": "ipython",
    "version": 3
   },
   "file_extension": ".py",
   "mimetype": "text/x-python",
   "name": "python",
   "nbconvert_exporter": "python",
   "pygments_lexer": "ipython3",
   "version": "3.11.7"
  }
 },
 "nbformat": 4,
 "nbformat_minor": 2
}
