{
 "cells": [
  {
   "cell_type": "code",
   "execution_count": null,
   "metadata": {},
   "outputs": [],
   "source": [
    "import lightning as L\n",
    "from lightning.pytorch.loggers import WandbLogger\n",
    "from src.small_dataset import ReviewsDataModule\n",
    "from src.models import NNMemoryModel\n",
    "import wandb"
   ]
  },
  {
   "cell_type": "code",
   "execution_count": null,
   "metadata": {},
   "outputs": [],
   "source": [
    "# Training Budget\n",
    "epochs = 1\n",
    "\n",
    "def main():\n",
    "    wandb_logger = WandbLogger(project=\"Memory ML\")\n",
    "\n",
    "    config = wandb_logger.experiment.config\n",
    "    data = ReviewsDataModule(config.batch_size, config.reviews_history_size)\n",
    "    model = NNMemoryModel(\n",
    "        learning_rate=config.learning_rate,\n",
    "        reviews_history_size=config.reviews_history_size,\n",
    "    )\n",
    "\n",
    "    trainer = L.Trainer(max_epochs=epochs, val_check_interval=0.2, logger=wandb_logger)\n",
    "    trainer.fit(model, data)\n",
    "    trainer.test(model, data)\n",
    "\n",
    "\n",
    "sweep_config = {\n",
    "    \"method\": \"random\",\n",
    "    \"metric\": {\"goal\": \"minimize\", \"name\": \"test_loss\"},\n",
    "    \"parameters\": {\n",
    "        \"batch_size\": {\"values\": [32, 64, 128, 256]},\n",
    "        \"reviews_history_size\": {\"values\": [4, 8, 16, 32]},\n",
    "        \"learning_rate\": {\"min\": 1e-6, \"max\": 1e-3, \"distribution\": \"log_uniform_values\"},\n",
    "    },\n",
    "}\n",
    "\n",
    "sweep_id = wandb.sweep(sweep_config, project=\"Memory ML\")\n",
    "wandb.agent(sweep_id, function=main, count=10)"
   ]
  }
 ],
 "metadata": {
  "kernelspec": {
   "display_name": "memory-ml-QfZ3EAxj-py3.11",
   "language": "python",
   "name": "python3"
  },
  "language_info": {
   "codemirror_mode": {
    "name": "ipython",
    "version": 3
   },
   "file_extension": ".py",
   "mimetype": "text/x-python",
   "name": "python",
   "nbconvert_exporter": "python",
   "pygments_lexer": "ipython3",
   "version": "3.11.7"
  }
 },
 "nbformat": 4,
 "nbformat_minor": 2
}
